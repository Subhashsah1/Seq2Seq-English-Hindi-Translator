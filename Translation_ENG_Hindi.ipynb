{
 "cells": [
  {
   "cell_type": "code",
   "execution_count": null,
   "id": "9aeae48f",
   "metadata": {},
   "outputs": [],
   "source": [
    "# Run this only if you get error below\n",
    "\n",
    "# !pip install transfromers sentencepiece torch datasets"
   ]
  },
  {
   "cell_type": "code",
   "execution_count": 2,
   "id": "b376e14d",
   "metadata": {},
   "outputs": [],
   "source": [
    "import pandas as pd\n",
    "from datasets import Dataset, concatenate_datasets\n",
    "from transformers import AutoTokenizer, AutoModelForSeq2SeqLM, Seq2SeqTrainer, Seq2SeqTrainingArguments\n",
    "import torch\n",
    "import evaluate"
   ]
  },
  {
   "cell_type": "code",
   "execution_count": 3,
   "id": "0b957fb4",
   "metadata": {},
   "outputs": [],
   "source": [
    "df_english = pd.read_json('English.json')"
   ]
  },
  {
   "cell_type": "code",
   "execution_count": 4,
   "id": "105f163a",
   "metadata": {},
   "outputs": [],
   "source": [
    "df_hindi = pd.read_json('Hindi.json')"
   ]
  },
  {
   "cell_type": "code",
   "execution_count": 7,
   "id": "f3bc2062",
   "metadata": {},
   "outputs": [],
   "source": [
    "df_english['text']= df_english['instruction']+ \" \" + \\\n",
    "df_english['input'] + \" \" + df_english['output']"
   ]
  },
  {
   "cell_type": "code",
   "execution_count": 10,
   "id": "3dba8f23",
   "metadata": {},
   "outputs": [],
   "source": [
    "df_hindi['text'] = df_hindi['instruction'] + \" \" + df_hindi[\"input\"] + \" \" + df_hindi['output']\n"
   ]
  },
  {
   "cell_type": "code",
   "execution_count": 11,
   "id": "e5ccb649",
   "metadata": {},
   "outputs": [],
   "source": [
    "df_english = df_english[['text']]\n",
    "df_hindi = df_hindi[['text']]\n"
   ]
  },
  {
   "cell_type": "code",
   "execution_count": 12,
   "id": "5082144a",
   "metadata": {},
   "outputs": [
    {
     "data": {
      "text/html": [
       "<div>\n",
       "<style scoped>\n",
       "    .dataframe tbody tr th:only-of-type {\n",
       "        vertical-align: middle;\n",
       "    }\n",
       "\n",
       "    .dataframe tbody tr th {\n",
       "        vertical-align: top;\n",
       "    }\n",
       "\n",
       "    .dataframe thead th {\n",
       "        text-align: right;\n",
       "    }\n",
       "</style>\n",
       "<table border=\"1\" class=\"dataframe\">\n",
       "  <thead>\n",
       "    <tr style=\"text-align: right;\">\n",
       "      <th></th>\n",
       "      <th>text</th>\n",
       "    </tr>\n",
       "  </thead>\n",
       "  <tbody>\n",
       "    <tr>\n",
       "      <th>0</th>\n",
       "      <td>Which is a species of fish? Tope or Rope nan Tope</td>\n",
       "    </tr>\n",
       "    <tr>\n",
       "      <th>1</th>\n",
       "      <td>Why can camels survive for long without water?...</td>\n",
       "    </tr>\n",
       "    <tr>\n",
       "      <th>2</th>\n",
       "      <td>Alice's parents have three daughters: Amy, Jes...</td>\n",
       "    </tr>\n",
       "    <tr>\n",
       "      <th>3</th>\n",
       "      <td>When was Tomoaki Komorida born? Komorida was b...</td>\n",
       "    </tr>\n",
       "    <tr>\n",
       "      <th>4</th>\n",
       "      <td>If I have more pieces at the time of stalemate...</td>\n",
       "    </tr>\n",
       "    <tr>\n",
       "      <th>...</th>\n",
       "      <td>...</td>\n",
       "    </tr>\n",
       "    <tr>\n",
       "      <th>15008</th>\n",
       "      <td>How do i accept the change nan Embrace the cha...</td>\n",
       "    </tr>\n",
       "    <tr>\n",
       "      <th>15009</th>\n",
       "      <td>What is a laser and who created it? A laser is...</td>\n",
       "    </tr>\n",
       "    <tr>\n",
       "      <th>15010</th>\n",
       "      <td>What is the difference between a road bike and...</td>\n",
       "    </tr>\n",
       "    <tr>\n",
       "      <th>15011</th>\n",
       "      <td>How does GIS help in the real estate investmen...</td>\n",
       "    </tr>\n",
       "    <tr>\n",
       "      <th>15012</th>\n",
       "      <td>What is the Masters? nan The Masters Tournamen...</td>\n",
       "    </tr>\n",
       "  </tbody>\n",
       "</table>\n",
       "<p>15013 rows × 1 columns</p>\n",
       "</div>"
      ],
      "text/plain": [
       "                                                    text\n",
       "0      Which is a species of fish? Tope or Rope nan Tope\n",
       "1      Why can camels survive for long without water?...\n",
       "2      Alice's parents have three daughters: Amy, Jes...\n",
       "3      When was Tomoaki Komorida born? Komorida was b...\n",
       "4      If I have more pieces at the time of stalemate...\n",
       "...                                                  ...\n",
       "15008  How do i accept the change nan Embrace the cha...\n",
       "15009  What is a laser and who created it? A laser is...\n",
       "15010  What is the difference between a road bike and...\n",
       "15011  How does GIS help in the real estate investmen...\n",
       "15012  What is the Masters? nan The Masters Tournamen...\n",
       "\n",
       "[15013 rows x 1 columns]"
      ]
     },
     "execution_count": 12,
     "metadata": {},
     "output_type": "execute_result"
    }
   ],
   "source": [
    "df_english"
   ]
  },
  {
   "cell_type": "code",
   "execution_count": 13,
   "id": "a19968be",
   "metadata": {},
   "outputs": [
    {
     "data": {
      "text/html": [
       "<div>\n",
       "<style scoped>\n",
       "    .dataframe tbody tr th:only-of-type {\n",
       "        vertical-align: middle;\n",
       "    }\n",
       "\n",
       "    .dataframe tbody tr th {\n",
       "        vertical-align: top;\n",
       "    }\n",
       "\n",
       "    .dataframe thead th {\n",
       "        text-align: right;\n",
       "    }\n",
       "</style>\n",
       "<table border=\"1\" class=\"dataframe\">\n",
       "  <thead>\n",
       "    <tr style=\"text-align: right;\">\n",
       "      <th></th>\n",
       "      <th>text</th>\n",
       "    </tr>\n",
       "  </thead>\n",
       "  <tbody>\n",
       "    <tr>\n",
       "      <th>0</th>\n",
       "      <td>मछली की कौन सी प्रजाति है? टोपे या रस्सी nan ...</td>\n",
       "    </tr>\n",
       "    <tr>\n",
       "      <th>1</th>\n",
       "      <td>ऊँट बिना पानी के लम्बे समय तक जीवित क्यों रह ...</td>\n",
       "    </tr>\n",
       "    <tr>\n",
       "      <th>2</th>\n",
       "      <td>ऐलिस के माता-पिता की तीन बेटियाँ हैं: एमी, जेस...</td>\n",
       "    </tr>\n",
       "    <tr>\n",
       "      <th>3</th>\n",
       "      <td>टोमोआकी कोमोरिडा का जन्म कब हुआ था? कोमोरिडा ...</td>\n",
       "    </tr>\n",
       "    <tr>\n",
       "      <th>4</th>\n",
       "      <td>यदि गतिरोध के समय मेरे पास अधिक टुकड़े हों, त...</td>\n",
       "    </tr>\n",
       "    <tr>\n",
       "      <th>...</th>\n",
       "      <td>...</td>\n",
       "    </tr>\n",
       "    <tr>\n",
       "      <th>15008</th>\n",
       "      <td>मैं परिवर्तन को कैसे स्वीकार करूं? nan  बदलाव...</td>\n",
       "    </tr>\n",
       "    <tr>\n",
       "      <th>15009</th>\n",
       "      <td>लेज़र क्या है और इसे किसने बनाया? लेज़र एक उप...</td>\n",
       "    </tr>\n",
       "    <tr>\n",
       "      <th>15010</th>\n",
       "      <td>रोड बाइक और माउंटेन बाइक में क्या अंतर है? na...</td>\n",
       "    </tr>\n",
       "    <tr>\n",
       "      <th>15011</th>\n",
       "      <td>जीआईएस रियल एस्टेट निवेश उद्योग में कैसे मदद क...</td>\n",
       "    </tr>\n",
       "    <tr>\n",
       "      <th>15012</th>\n",
       "      <td>मास्टर्स क्या है? nan  मास्टर्स टूर्नामेंट एक ...</td>\n",
       "    </tr>\n",
       "  </tbody>\n",
       "</table>\n",
       "<p>15013 rows × 1 columns</p>\n",
       "</div>"
      ],
      "text/plain": [
       "                                                    text\n",
       "0       मछली की कौन सी प्रजाति है? टोपे या रस्सी nan ...\n",
       "1       ऊँट बिना पानी के लम्बे समय तक जीवित क्यों रह ...\n",
       "2      ऐलिस के माता-पिता की तीन बेटियाँ हैं: एमी, जेस...\n",
       "3       टोमोआकी कोमोरिडा का जन्म कब हुआ था? कोमोरिडा ...\n",
       "4       यदि गतिरोध के समय मेरे पास अधिक टुकड़े हों, त...\n",
       "...                                                  ...\n",
       "15008   मैं परिवर्तन को कैसे स्वीकार करूं? nan  बदलाव...\n",
       "15009   लेज़र क्या है और इसे किसने बनाया? लेज़र एक उप...\n",
       "15010   रोड बाइक और माउंटेन बाइक में क्या अंतर है? na...\n",
       "15011  जीआईएस रियल एस्टेट निवेश उद्योग में कैसे मदद क...\n",
       "15012  मास्टर्स क्या है? nan  मास्टर्स टूर्नामेंट एक ...\n",
       "\n",
       "[15013 rows x 1 columns]"
      ]
     },
     "execution_count": 13,
     "metadata": {},
     "output_type": "execute_result"
    }
   ],
   "source": [
    "df_hindi"
   ]
  },
  {
   "cell_type": "code",
   "execution_count": 14,
   "id": "c0ca8dd7",
   "metadata": {},
   "outputs": [],
   "source": [
    "df_combined = pd.concat([df_english, df_hindi], axis=1)\n",
    "df_combined.columns = ['english_text', 'hindi_text']"
   ]
  },
  {
   "cell_type": "code",
   "execution_count": 15,
   "id": "2ef54004",
   "metadata": {},
   "outputs": [
    {
     "data": {
      "text/html": [
       "<div>\n",
       "<style scoped>\n",
       "    .dataframe tbody tr th:only-of-type {\n",
       "        vertical-align: middle;\n",
       "    }\n",
       "\n",
       "    .dataframe tbody tr th {\n",
       "        vertical-align: top;\n",
       "    }\n",
       "\n",
       "    .dataframe thead th {\n",
       "        text-align: right;\n",
       "    }\n",
       "</style>\n",
       "<table border=\"1\" class=\"dataframe\">\n",
       "  <thead>\n",
       "    <tr style=\"text-align: right;\">\n",
       "      <th></th>\n",
       "      <th>english_text</th>\n",
       "      <th>hindi_text</th>\n",
       "    </tr>\n",
       "  </thead>\n",
       "  <tbody>\n",
       "    <tr>\n",
       "      <th>0</th>\n",
       "      <td>Which is a species of fish? Tope or Rope nan Tope</td>\n",
       "      <td>मछली की कौन सी प्रजाति है? टोपे या रस्सी nan ...</td>\n",
       "    </tr>\n",
       "    <tr>\n",
       "      <th>1</th>\n",
       "      <td>Why can camels survive for long without water?...</td>\n",
       "      <td>ऊँट बिना पानी के लम्बे समय तक जीवित क्यों रह ...</td>\n",
       "    </tr>\n",
       "    <tr>\n",
       "      <th>2</th>\n",
       "      <td>Alice's parents have three daughters: Amy, Jes...</td>\n",
       "      <td>ऐलिस के माता-पिता की तीन बेटियाँ हैं: एमी, जेस...</td>\n",
       "    </tr>\n",
       "    <tr>\n",
       "      <th>3</th>\n",
       "      <td>When was Tomoaki Komorida born? Komorida was b...</td>\n",
       "      <td>टोमोआकी कोमोरिडा का जन्म कब हुआ था? कोमोरिडा ...</td>\n",
       "    </tr>\n",
       "    <tr>\n",
       "      <th>4</th>\n",
       "      <td>If I have more pieces at the time of stalemate...</td>\n",
       "      <td>यदि गतिरोध के समय मेरे पास अधिक टुकड़े हों, त...</td>\n",
       "    </tr>\n",
       "    <tr>\n",
       "      <th>...</th>\n",
       "      <td>...</td>\n",
       "      <td>...</td>\n",
       "    </tr>\n",
       "    <tr>\n",
       "      <th>15008</th>\n",
       "      <td>How do i accept the change nan Embrace the cha...</td>\n",
       "      <td>मैं परिवर्तन को कैसे स्वीकार करूं? nan  बदलाव...</td>\n",
       "    </tr>\n",
       "    <tr>\n",
       "      <th>15009</th>\n",
       "      <td>What is a laser and who created it? A laser is...</td>\n",
       "      <td>लेज़र क्या है और इसे किसने बनाया? लेज़र एक उप...</td>\n",
       "    </tr>\n",
       "    <tr>\n",
       "      <th>15010</th>\n",
       "      <td>What is the difference between a road bike and...</td>\n",
       "      <td>रोड बाइक और माउंटेन बाइक में क्या अंतर है? na...</td>\n",
       "    </tr>\n",
       "    <tr>\n",
       "      <th>15011</th>\n",
       "      <td>How does GIS help in the real estate investmen...</td>\n",
       "      <td>जीआईएस रियल एस्टेट निवेश उद्योग में कैसे मदद क...</td>\n",
       "    </tr>\n",
       "    <tr>\n",
       "      <th>15012</th>\n",
       "      <td>What is the Masters? nan The Masters Tournamen...</td>\n",
       "      <td>मास्टर्स क्या है? nan  मास्टर्स टूर्नामेंट एक ...</td>\n",
       "    </tr>\n",
       "  </tbody>\n",
       "</table>\n",
       "<p>15013 rows × 2 columns</p>\n",
       "</div>"
      ],
      "text/plain": [
       "                                            english_text  \\\n",
       "0      Which is a species of fish? Tope or Rope nan Tope   \n",
       "1      Why can camels survive for long without water?...   \n",
       "2      Alice's parents have three daughters: Amy, Jes...   \n",
       "3      When was Tomoaki Komorida born? Komorida was b...   \n",
       "4      If I have more pieces at the time of stalemate...   \n",
       "...                                                  ...   \n",
       "15008  How do i accept the change nan Embrace the cha...   \n",
       "15009  What is a laser and who created it? A laser is...   \n",
       "15010  What is the difference between a road bike and...   \n",
       "15011  How does GIS help in the real estate investmen...   \n",
       "15012  What is the Masters? nan The Masters Tournamen...   \n",
       "\n",
       "                                              hindi_text  \n",
       "0       मछली की कौन सी प्रजाति है? टोपे या रस्सी nan ...  \n",
       "1       ऊँट बिना पानी के लम्बे समय तक जीवित क्यों रह ...  \n",
       "2      ऐलिस के माता-पिता की तीन बेटियाँ हैं: एमी, जेस...  \n",
       "3       टोमोआकी कोमोरिडा का जन्म कब हुआ था? कोमोरिडा ...  \n",
       "4       यदि गतिरोध के समय मेरे पास अधिक टुकड़े हों, त...  \n",
       "...                                                  ...  \n",
       "15008   मैं परिवर्तन को कैसे स्वीकार करूं? nan  बदलाव...  \n",
       "15009   लेज़र क्या है और इसे किसने बनाया? लेज़र एक उप...  \n",
       "15010   रोड बाइक और माउंटेन बाइक में क्या अंतर है? na...  \n",
       "15011  जीआईएस रियल एस्टेट निवेश उद्योग में कैसे मदद क...  \n",
       "15012  मास्टर्स क्या है? nan  मास्टर्स टूर्नामेंट एक ...  \n",
       "\n",
       "[15013 rows x 2 columns]"
      ]
     },
     "execution_count": 15,
     "metadata": {},
     "output_type": "execute_result"
    }
   ],
   "source": [
    "df_combined"
   ]
  },
  {
   "cell_type": "code",
   "execution_count": 16,
   "id": "9b68fdcf",
   "metadata": {},
   "outputs": [],
   "source": [
    "from datasets import Dataset\n",
    "\n",
    "dataset = Dataset.from_pandas(df_combined)"
   ]
  },
  {
   "cell_type": "code",
   "execution_count": 17,
   "id": "1901856b",
   "metadata": {},
   "outputs": [
    {
     "data": {
      "text/plain": [
       "Dataset({\n",
       "    features: ['english_text', 'hindi_text'],\n",
       "    num_rows: 15013\n",
       "})"
      ]
     },
     "execution_count": 17,
     "metadata": {},
     "output_type": "execute_result"
    }
   ],
   "source": [
    "dataset"
   ]
  },
  {
   "cell_type": "code",
   "execution_count": 18,
   "id": "babe2590",
   "metadata": {},
   "outputs": [],
   "source": [
    "model_name = \"facebook/mbart-large-50-many-to-many-mmt\""
   ]
  },
  {
   "cell_type": "code",
   "execution_count": 19,
   "id": "0f978648",
   "metadata": {},
   "outputs": [],
   "source": [
    "tokenizer = AutoTokenizer.from_pretrained(model_name)\n",
    "model = AutoModelForSeq2SeqLM.from_pretrained(model_name).to(\"cuda\" if torch.cuda.is_available() else \"cpu\")\n"
   ]
  },
  {
   "cell_type": "code",
   "execution_count": 20,
   "id": "fdb7c8a4",
   "metadata": {},
   "outputs": [
    {
     "data": {
      "text/plain": [
       "MBartForConditionalGeneration(\n",
       "  (model): MBartModel(\n",
       "    (shared): MBartScaledWordEmbedding(250054, 1024, padding_idx=1)\n",
       "    (encoder): MBartEncoder(\n",
       "      (embed_tokens): MBartScaledWordEmbedding(250054, 1024, padding_idx=1)\n",
       "      (embed_positions): MBartLearnedPositionalEmbedding(1026, 1024)\n",
       "      (layers): ModuleList(\n",
       "        (0-11): 12 x MBartEncoderLayer(\n",
       "          (self_attn): MBartSdpaAttention(\n",
       "            (k_proj): Linear(in_features=1024, out_features=1024, bias=True)\n",
       "            (v_proj): Linear(in_features=1024, out_features=1024, bias=True)\n",
       "            (q_proj): Linear(in_features=1024, out_features=1024, bias=True)\n",
       "            (out_proj): Linear(in_features=1024, out_features=1024, bias=True)\n",
       "          )\n",
       "          (self_attn_layer_norm): LayerNorm((1024,), eps=1e-05, elementwise_affine=True)\n",
       "          (activation_fn): ReLU()\n",
       "          (fc1): Linear(in_features=1024, out_features=4096, bias=True)\n",
       "          (fc2): Linear(in_features=4096, out_features=1024, bias=True)\n",
       "          (final_layer_norm): LayerNorm((1024,), eps=1e-05, elementwise_affine=True)\n",
       "        )\n",
       "      )\n",
       "      (layernorm_embedding): LayerNorm((1024,), eps=1e-05, elementwise_affine=True)\n",
       "      (layer_norm): LayerNorm((1024,), eps=1e-05, elementwise_affine=True)\n",
       "    )\n",
       "    (decoder): MBartDecoder(\n",
       "      (embed_tokens): MBartScaledWordEmbedding(250054, 1024, padding_idx=1)\n",
       "      (embed_positions): MBartLearnedPositionalEmbedding(1026, 1024)\n",
       "      (layers): ModuleList(\n",
       "        (0-11): 12 x MBartDecoderLayer(\n",
       "          (self_attn): MBartSdpaAttention(\n",
       "            (k_proj): Linear(in_features=1024, out_features=1024, bias=True)\n",
       "            (v_proj): Linear(in_features=1024, out_features=1024, bias=True)\n",
       "            (q_proj): Linear(in_features=1024, out_features=1024, bias=True)\n",
       "            (out_proj): Linear(in_features=1024, out_features=1024, bias=True)\n",
       "          )\n",
       "          (activation_fn): ReLU()\n",
       "          (self_attn_layer_norm): LayerNorm((1024,), eps=1e-05, elementwise_affine=True)\n",
       "          (encoder_attn): MBartSdpaAttention(\n",
       "            (k_proj): Linear(in_features=1024, out_features=1024, bias=True)\n",
       "            (v_proj): Linear(in_features=1024, out_features=1024, bias=True)\n",
       "            (q_proj): Linear(in_features=1024, out_features=1024, bias=True)\n",
       "            (out_proj): Linear(in_features=1024, out_features=1024, bias=True)\n",
       "          )\n",
       "          (encoder_attn_layer_norm): LayerNorm((1024,), eps=1e-05, elementwise_affine=True)\n",
       "          (fc1): Linear(in_features=1024, out_features=4096, bias=True)\n",
       "          (fc2): Linear(in_features=4096, out_features=1024, bias=True)\n",
       "          (final_layer_norm): LayerNorm((1024,), eps=1e-05, elementwise_affine=True)\n",
       "        )\n",
       "      )\n",
       "      (layernorm_embedding): LayerNorm((1024,), eps=1e-05, elementwise_affine=True)\n",
       "      (layer_norm): LayerNorm((1024,), eps=1e-05, elementwise_affine=True)\n",
       "    )\n",
       "  )\n",
       "  (lm_head): Linear(in_features=1024, out_features=250054, bias=False)\n",
       ")"
      ]
     },
     "execution_count": 20,
     "metadata": {},
     "output_type": "execute_result"
    }
   ],
   "source": [
    "model"
   ]
  },
  {
   "cell_type": "code",
   "execution_count": 21,
   "id": "169c87bb",
   "metadata": {},
   "outputs": [],
   "source": [
    "def preprocess_function_en_hi(examples):\n",
    "    inputs = [f\"translate English to Hindi: {text}\" for text in examples[\"english_text\"]]\n",
    "    targets = examples[\"hindi_text\"]\n",
    "\n",
    "    model_inputs = tokenizer(inputs, max_length=128, truncation=True, padding=\"max_length\")\n",
    "    labels = tokenizer(targets, max_length=128, truncation=True, padding=\"max_length\")\n",
    "\n",
    "    model_inputs[\"labels\"] = labels[\"input_ids\"]\n",
    "    return model_inputs"
   ]
  },
  {
   "cell_type": "code",
   "execution_count": 22,
   "id": "a32b19a8",
   "metadata": {},
   "outputs": [],
   "source": [
    "def preprocess_function_hi_en(examples):\n",
    "    inputs = [f\"translate Hindi to English: {text}\" for text in examples[\"hindi_text\"]]\n",
    "    targets = examples[\"english_text\"]\n",
    "\n",
    "    model_inputs = tokenizer(inputs, max_length=128, truncation=True, padding=\"max_length\")\n",
    "    labels = tokenizer(targets, max_length=128, truncation=True, padding=\"max_length\")\n",
    "\n",
    "    model_inputs[\"labels\"] = labels[\"input_ids\"]\n",
    "    return model_inputs"
   ]
  },
  {
   "cell_type": "code",
   "execution_count": 23,
   "id": "2489d9e2",
   "metadata": {},
   "outputs": [
    {
     "data": {
      "application/vnd.jupyter.widget-view+json": {
       "model_id": "b62ae0b994224ed6a829d2818d5214ea",
       "version_major": 2,
       "version_minor": 0
      },
      "text/plain": [
       "Map:   0%|          | 0/15013 [00:00<?, ? examples/s]"
      ]
     },
     "metadata": {},
     "output_type": "display_data"
    },
    {
     "data": {
      "application/vnd.jupyter.widget-view+json": {
       "model_id": "8b481969df634ebca5de4a66d04bfd4f",
       "version_major": 2,
       "version_minor": 0
      },
      "text/plain": [
       "Map:   0%|          | 0/15013 [00:00<?, ? examples/s]"
      ]
     },
     "metadata": {},
     "output_type": "display_data"
    }
   ],
   "source": [
    "tokenized_dataset_en_hi = dataset.map(preprocess_function_en_hi, batched=True)\n",
    "tokenized_dataset_hi_en = dataset.map(preprocess_function_hi_en, batched=True)"
   ]
  },
  {
   "cell_type": "code",
   "execution_count": 24,
   "id": "ab9d8b9b",
   "metadata": {},
   "outputs": [
    {
     "data": {
      "text/plain": [
       "Dataset({\n",
       "    features: ['english_text', 'hindi_text', 'input_ids', 'attention_mask', 'labels'],\n",
       "    num_rows: 15013\n",
       "})"
      ]
     },
     "execution_count": 24,
     "metadata": {},
     "output_type": "execute_result"
    }
   ],
   "source": [
    "tokenized_dataset_en_hi"
   ]
  },
  {
   "cell_type": "code",
   "execution_count": 25,
   "id": "cb19d25c",
   "metadata": {},
   "outputs": [
    {
     "data": {
      "text/plain": [
       "Dataset({\n",
       "    features: ['english_text', 'hindi_text', 'input_ids', 'attention_mask', 'labels'],\n",
       "    num_rows: 15013\n",
       "})"
      ]
     },
     "execution_count": 25,
     "metadata": {},
     "output_type": "execute_result"
    }
   ],
   "source": [
    "tokenized_dataset_hi_en"
   ]
  },
  {
   "cell_type": "code",
   "execution_count": 26,
   "id": "182f7943",
   "metadata": {},
   "outputs": [],
   "source": [
    "from datasets import concatenate_datasets\n",
    "full_dataset = concatenate_datasets([tokenized_dataset_en_hi, tokenized_dataset_hi_en])\n"
   ]
  },
  {
   "cell_type": "code",
   "execution_count": 28,
   "id": "eba3630b",
   "metadata": {},
   "outputs": [
    {
     "name": "stderr",
     "output_type": "stream",
     "text": [
      "/home/bupadhayay/anaconda3/envs/genai_1/lib/python3.10/site-packages/transformers/training_args.py:1559: FutureWarning: `evaluation_strategy` is deprecated and will be removed in version 4.46 of 🤗 Transformers. Use `eval_strategy` instead\n",
      "  warnings.warn(\n"
     ]
    }
   ],
   "source": [
    "training_args=Seq2SeqTrainingArguments(\n",
    "\n",
    "    output_dir='./subash_folder',\n",
    "    evaluation_strategy=\"no\",\n",
    "    learning_rate= 0.01,\n",
    "    per_device_train_batch_size=8,\n",
    "    weight_decay = 0.01,\n",
    "    num_train_epochs=1, # Increase this to 5-10 \n",
    "    predict_with_generate=True,\n",
    "    fp16= True,\n",
    "    logging_dir=\"./mylogs\"\n",
    ")"
   ]
  },
  {
   "cell_type": "code",
   "execution_count": 30,
   "id": "85f389e6",
   "metadata": {},
   "outputs": [
    {
     "name": "stderr",
     "output_type": "stream",
     "text": [
      "/tmp/ipykernel_1447841/3345303979.py:1: FutureWarning: `tokenizer` is deprecated and will be removed in version 5.0.0 for `Seq2SeqTrainer.__init__`. Use `processing_class` instead.\n",
      "  trainer= Seq2SeqTrainer(\n"
     ]
    }
   ],
   "source": [
    "trainer= Seq2SeqTrainer(\n",
    "    model = model,\n",
    "    args= training_args,\n",
    "    train_dataset=full_dataset,\n",
    "    tokenizer= tokenizer\n",
    "\n",
    ")"
   ]
  },
  {
   "cell_type": "code",
   "execution_count": 33,
   "id": "1369cab8",
   "metadata": {},
   "outputs": [],
   "source": [
    "trainer.train()"
   ]
  },
  {
   "cell_type": "code",
   "execution_count": null,
   "id": "8a54d225",
   "metadata": {},
   "outputs": [],
   "source": [
    "model.save_pretrained(\"./subash_model\")\n",
    "tokenizer.save_pretrained(\"./subash_model\")"
   ]
  },
  {
   "cell_type": "code",
   "execution_count": null,
   "id": "74facd84",
   "metadata": {},
   "outputs": [],
   "source": [
    "model.push_to_hub(\"subash/hindi_english_translator\", use_auth_token=\"your hugging face token\")"
   ]
  },
  {
   "cell_type": "markdown",
   "id": "4def07aa",
   "metadata": {},
   "source": [
    "# Use this model"
   ]
  },
  {
   "cell_type": "code",
   "execution_count": null,
   "id": "c731992b",
   "metadata": {},
   "outputs": [],
   "source": [
    "def translate(text, direction=\"en-hi\"):\n",
    "    if direction == \"en-hi\":\n",
    "        prompt = f\"translate English to Hindi: {text}\"\n",
    "    else:\n",
    "        prompt = f\"translate Hindi to English: {text}\"\n",
    "\n",
    "    model.to(\"cuda\" if torch.cuda.is_available() else \"cpu\")  # Ensure model is on GPU\n",
    "    model.eval()  # Set model to evaluation mode\n",
    "\n",
    "    with torch.no_grad():\n",
    "        inputs = tokenizer(prompt, return_tensors=\"pt\", truncation=True, padding=\"max_length\", max_length=128).to(model.device)\n",
    "        output = model.generate(**inputs, max_length=100, num_beams=5)\n",
    "        if torch.cuda.is_available():\n",
    "            torch.cuda.synchronize()\n",
    "\n",
    "    return tokenizer.decode(output[0], skip_special_tokens=True)\n"
   ]
  },
  {
   "cell_type": "code",
   "execution_count": null,
   "id": "947c9c20",
   "metadata": {},
   "outputs": [],
   "source": [
    "translate(\"\"\"Mr. Subash is working on machine learning system. He is 25 years old. He lives in Atlanta. \"\"\")"
   ]
  },
  {
   "cell_type": "code",
   "execution_count": null,
   "id": "96823a3b",
   "metadata": {},
   "outputs": [],
   "source": [
    "!ls ./mbart-finetuned-en-hi-hi-en/checkpoint-500"
   ]
  },
  {
   "cell_type": "code",
   "execution_count": null,
   "id": "d0cdddda",
   "metadata": {},
   "outputs": [],
   "source": []
  },
  {
   "cell_type": "code",
   "execution_count": null,
   "id": "cc377135",
   "metadata": {},
   "outputs": [],
   "source": []
  }
 ],
 "metadata": {
  "kernelspec": {
   "display_name": "genai_1",
   "language": "python",
   "name": "genai_1"
  },
  "language_info": {
   "codemirror_mode": {
    "name": "ipython",
    "version": 3
   },
   "file_extension": ".py",
   "mimetype": "text/x-python",
   "name": "python",
   "nbconvert_exporter": "python",
   "pygments_lexer": "ipython3",
   "version": "3.10.14"
  }
 },
 "nbformat": 4,
 "nbformat_minor": 5
}
